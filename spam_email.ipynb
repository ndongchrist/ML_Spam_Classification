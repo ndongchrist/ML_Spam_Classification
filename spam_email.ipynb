{
 "cells": [
  {
   "cell_type": "code",
   "execution_count": 1,
   "id": "2c912885",
   "metadata": {},
   "outputs": [],
   "source": [
    "import pandas as pd\n",
    "import numpy as np\n",
    "import matplotlib.pyplot as plt\n",
    "import seaborn as sns\n",
    "import joblib\n",
    "from bs4 import BeautifulSoup\n",
    "from langdetect import detect\n",
    "from sklearn.feature_extraction.text import TfidfVectorizer\n",
    "from sklearn.model_selection import train_test_split, cross_val_score, GridSearchCV\n",
    "from sklearn.linear_model import LogisticRegression\n",
    "from sklearn.naive_bayes import MultinomialNB\n",
    "from sklearn.svm import LinearSVC\n",
    "from sklearn.metrics import (\n",
    "    accuracy_score, classification_report, confusion_matrix,\n",
    "    roc_curve, auc, RocCurveDisplay\n",
    ")"
   ]
  },
  {
   "cell_type": "markdown",
   "id": "9839a968",
   "metadata": {},
   "source": [
    "# === 1. Load Data ==="
   ]
  },
  {
   "cell_type": "code",
   "execution_count": 2,
   "id": "8d9450eb",
   "metadata": {},
   "outputs": [],
   "source": [
    "# Load the CSV\n",
    "df = pd.read_csv(\"completeSpamAssassin.csv\")\n",
    "df = df.drop(columns=['Unnamed: 0'], errors='ignore')\n",
    "df.drop_duplicates(inplace=True)\n",
    "df['Body'] = df['Body'].fillna('')"
   ]
  },
  {
   "cell_type": "markdown",
   "id": "f4591a11",
   "metadata": {},
   "source": [
    "# === 2. Clean HTML and Non-English ==="
   ]
  },
  {
   "cell_type": "code",
   "execution_count": 3,
   "id": "2dbe04d9",
   "metadata": {},
   "outputs": [
    {
     "name": "stderr",
     "output_type": "stream",
     "text": [
      "/tmp/ipykernel_117860/3150450804.py:2: MarkupResemblesLocatorWarning: The input passed in on this line looks more like a URL than HTML or XML.\n",
      "\n",
      "If you meant to use Beautiful Soup to parse the web page found at a certain URL, then something has gone wrong. You should use an Python package like 'requests' to fetch the content behind the URL. Once you have the content as a string, you can feed that string into Beautiful Soup.\n",
      "\n",
      "However, if you want to parse some data that happens to look like a URL, then nothing has gone wrong: you are using Beautiful Soup correctly, and this warning is spurious and can be filtered. To make this warning go away, run this code before calling the BeautifulSoup constructor:\n",
      "\n",
      "    from bs4 import MarkupResemblesLocatorWarning\n",
      "    import warnings\n",
      "\n",
      "    warnings.filterwarnings(\"ignore\", category=MarkupResemblesLocatorWarning)\n",
      "    \n",
      "  return BeautifulSoup(text, \"html.parser\").get_text()\n"
     ]
    }
   ],
   "source": [
    "def clean_html(text):\n",
    "    return BeautifulSoup(text, \"html.parser\").get_text()\n",
    "\n",
    "def is_english(text):\n",
    "    try:\n",
    "        return detect(text) == 'en'\n",
    "    except:\n",
    "        return False\n",
    "\n",
    "df['Body'] = df['Body'].apply(clean_html)\n",
    "df = df[df['Body'].apply(is_english)]"
   ]
  },
  {
   "cell_type": "markdown",
   "id": "14208561",
   "metadata": {},
   "source": [
    "# === 3. Visualize Label Distribution ==="
   ]
  },
  {
   "cell_type": "code",
   "execution_count": 4,
   "id": "fac4d2be",
   "metadata": {},
   "outputs": [
    {
     "data": {
      "image/png": "[encoded data removed]",
      "text/plain": [
       "<Figure size 640x480 with 1 Axes>"
      ]
     },
     "metadata": {},
     "output_type": "display_data"
    }
   ],
   "source": [
    "sns.countplot(data=df, x='Label')\n",
    "plt.title('Spam vs Ham')\n",
    "plt.show()"
   ]
  },
  {
   "cell_type": "markdown",
   "id": "117e14a3",
   "metadata": {},
   "source": [
    "# === 4. Vectorization ==="
   ]
  },
  {
   "cell_type": "code",
   "execution_count": 5,
   "id": "ffb836e8",
   "metadata": {},
   "outputs": [],
   "source": [
    "vectorizer = TfidfVectorizer(stop_words='english', max_df=0.9)\n",
    "X = vectorizer.fit_transform(df['Body'])\n",
    "y = df['Label']\n"
   ]
  },
  {
   "cell_type": "markdown",
   "id": "da688693",
   "metadata": {},
   "source": [
    "# === 5. Split Dataset ==="
   ]
  },
  {
   "cell_type": "code",
   "execution_count": 6,
   "id": "4c7a023e",
   "metadata": {},
   "outputs": [],
   "source": [
    "X_train, X_test, y_train, y_test = train_test_split(X, y, test_size=0.2, random_state=42)\n"
   ]
  },
  {
   "cell_type": "markdown",
   "id": "dfa30207",
   "metadata": {},
   "source": [
    "### Train and Evaluate Logistic Reg and naives bayes"
   ]
  },
  {
   "cell_type": "code",
   "execution_count": 7,
   "id": "ecbb0a44",
   "metadata": {},
   "outputs": [
    {
     "name": "stdout",
     "output_type": "stream",
     "text": [
      "\n",
      "=== Logistic Regression ===\n",
      "Accuracy: 0.9587727708533078\n",
      "              precision    recall  f1-score   support\n",
      "\n",
      "           0       0.95      1.00      0.97       760\n",
      "           1       1.00      0.85      0.92       283\n",
      "\n",
      "    accuracy                           0.96      1043\n",
      "   macro avg       0.97      0.92      0.95      1043\n",
      "weighted avg       0.96      0.96      0.96      1043\n",
      "\n",
      "\n",
      "=== Naive Bayes ===\n",
      "Accuracy: 0.9079578139980825\n",
      "              precision    recall  f1-score   support\n",
      "\n",
      "           0       0.89      1.00      0.94       760\n",
      "           1       1.00      0.66      0.80       283\n",
      "\n",
      "    accuracy                           0.91      1043\n",
      "   macro avg       0.94      0.83      0.87      1043\n",
      "weighted avg       0.92      0.91      0.90      1043\n",
      "\n",
      "\n",
      "=== SVM ===\n",
      "Accuracy: 0.975071907957814\n",
      "              precision    recall  f1-score   support\n",
      "\n",
      "           0       0.97      1.00      0.98       760\n",
      "           1       0.99      0.92      0.95       283\n",
      "\n",
      "    accuracy                           0.98      1043\n",
      "   macro avg       0.98      0.96      0.97      1043\n",
      "weighted avg       0.98      0.98      0.97      1043\n",
      "\n"
     ]
    }
   ],
   "source": [
    "models = {\n",
    "    \"Logistic Regression\": LogisticRegression(max_iter=1000),\n",
    "    \"Naive Bayes\": MultinomialNB(),\n",
    "    \"SVM\": LinearSVC()\n",
    "}\n",
    "\n",
    "for name, model in models.items():\n",
    "    model.fit(X_train, y_train)\n",
    "    y_pred = model.predict(X_test)\n",
    "    print(f\"\\n=== {name} ===\")\n",
    "    print(\"Accuracy:\", accuracy_score(y_test, y_pred))\n",
    "    print(classification_report(y_test, y_pred))"
   ]
  },
  {
   "cell_type": "markdown",
   "id": "d7ae5ce5",
   "metadata": {},
   "source": [
    "# === 7. SVM: Confusion Matrix and ROC Curve ==="
   ]
  },
  {
   "cell_type": "code",
   "execution_count": 8,
   "id": "0bcdf479",
   "metadata": {},
   "outputs": [
    {
     "data": {
      "image/png": "[encoded data removed]",
      "text/plain": [
       "<Figure size 640x480 with 2 Axes>"
      ]
     },
     "metadata": {},
     "output_type": "display_data"
    }
   ],
   "source": [
    "svm = models[\"SVM\"]\n",
    "y_pred_svm = svm.predict(X_test)\n",
    "cm = confusion_matrix(y_test, y_pred_svm)\n",
    "sns.heatmap(cm, annot=True, fmt=\"d\", cmap=\"Blues\")\n",
    "plt.title(\"SVM Confusion Matrix\")\n",
    "plt.xlabel(\"Predicted\")\n",
    "plt.ylabel(\"Actual\")\n",
    "plt.show()"
   ]
  },
  {
   "cell_type": "markdown",
   "id": "29e54ad8",
   "metadata": {},
   "source": [
    "# ROC Curve"
   ]
  },
  {
   "cell_type": "code",
   "execution_count": 9,
   "id": "f49fa201",
   "metadata": {},
   "outputs": [
    {
     "data": {
      "image/png": "[encoded data removed]",
      "text/plain": [
       "<Figure size 640x480 with 1 Axes>"
      ]
     },
     "metadata": {},
     "output_type": "display_data"
    }
   ],
   "source": [
    "try:\n",
    "    # LinearSVC does not have predict_proba, use decision_function instead\n",
    "    y_scores = svm.decision_function(X_test)\n",
    "    fpr, tpr, _ = roc_curve(y_test, y_scores)\n",
    "    roc_auc = auc(fpr, tpr)\n",
    "    RocCurveDisplay(fpr=fpr, tpr=tpr, roc_auc=roc_auc).plot()\n",
    "    plt.title(f\"SVM ROC Curve (AUC = {roc_auc:.2f})\")\n",
    "    plt.show()\n",
    "except Exception as e:\n",
    "    print(\"ROC Curve not available:\", e)"
   ]
  },
  {
   "cell_type": "markdown",
   "id": "426f9af9",
   "metadata": {},
   "source": [
    "# === 8. Cross-Validation (5-Fold) ==="
   ]
  },
  {
   "cell_type": "code",
   "execution_count": 10,
   "id": "03850a89",
   "metadata": {},
   "outputs": [
    {
     "name": "stdout",
     "output_type": "stream",
     "text": [
      "SVM Cross-Validation Scores: [0.97315436 0.97986577 0.98368522 0.98560461 0.93953935]\n",
      "Mean CV Accuracy: 0.9723698617784592\n"
     ]
    }
   ],
   "source": [
    "cv_scores = cross_val_score(svm, X, y, cv=5)\n",
    "print(\"SVM Cross-Validation Scores:\", cv_scores)\n",
    "print(\"Mean CV Accuracy:\", np.mean(cv_scores))"
   ]
  },
  {
   "cell_type": "markdown",
   "id": "ff99caff",
   "metadata": {},
   "source": [
    "# === 9. GridSearch for Hyperparameter Tuning (Optional for SVM) ==="
   ]
  },
  {
   "cell_type": "code",
   "execution_count": 11,
   "id": "088e8577",
   "metadata": {},
   "outputs": [
    {
     "name": "stdout",
     "output_type": "stream",
     "text": [
      "Best Params: {'C': 10}\n"
     ]
    }
   ],
   "source": [
    "param_grid = {'C': [0.1, 1, 10]}\n",
    "grid = GridSearchCV(LinearSVC(), param_grid, cv=5)\n",
    "grid.fit(X_train, y_train)\n",
    "print(\"Best Params:\", grid.best_params_)\n",
    "best_svm = grid.best_estimator_"
   ]
  },
  {
   "cell_type": "markdown",
   "id": "a82ea624",
   "metadata": {},
   "source": [
    "# === 10. Save Model & Vectorizer ==="
   ]
  },
  {
   "cell_type": "code",
   "execution_count": 12,
   "id": "15b13b2b",
   "metadata": {},
   "outputs": [
    {
     "name": "stdout",
     "output_type": "stream",
     "text": [
      "✅ Model and vectorizer saved.\n"
     ]
    }
   ],
   "source": [
    "joblib.dump(svm, 'svm_spam_classifier.pkl')\n",
    "joblib.dump(vectorizer, 'tfidf_vectorizer.pkl')\n",
    "\n",
    "print(\"✅ Model and vectorizer saved.\")"
   ]
  }
 ],
 "metadata": {
  "kernelspec": {
   "display_name": "ml-venv",
   "language": "python",
   "name": "python3"
  },
  "language_info": {
   "codemirror_mode": {
    "name": "ipython",
    "version": 3
   },
   "file_extension": ".py",
   "mimetype": "text/x-python",
   "name": "python",
   "nbconvert_exporter": "python",
   "pygments_lexer": "ipython3",
   "version": "3.10.14"
  }
 },
 "nbformat": 4,
 "nbformat_minor": 5
}
